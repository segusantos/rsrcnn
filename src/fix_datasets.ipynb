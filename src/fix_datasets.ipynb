{
 "cells": [
  {
   "cell_type": "code",
   "execution_count": 1,
   "metadata": {},
   "outputs": [],
   "source": [
    "import os\n",
    "import cv2\n",
    "dataDir = \"../data/\""
   ]
  },
  {
   "cell_type": "code",
   "execution_count": 2,
   "metadata": {},
   "outputs": [],
   "source": [
    "def getDim(shape: tuple[int], factor: int):\n",
    "    return (shape[1]-shape[1]%factor, shape[0]-shape[0]%factor)\n",
    "\n",
    "\n",
    "datasetDir = dataDir + \"val/BSD100\"\n",
    "images = []\n",
    "namesList = sorted(os.listdir(os.path.join(datasetDir, \"original\")))\n",
    "for filename in namesList:\n",
    "    if filename.endswith(\".png\"):\n",
    "        images.append(cv2.imread(os.path.join(datasetDir, \"original\", filename)))\n",
    "\n",
    "for i, name in enumerate(namesList):\n",
    "    # X2\n",
    "    GT = cv2.resize(images[i], getDim(images[i].shape, 2))\n",
    "    LR = cv2.resize(GT, (GT.shape[1]//2, GT.shape[0]//2))\n",
    "    cv2.imwrite(os.path.join(datasetDir, \"X2\", \"GT\", name), GT)\n",
    "    cv2.imwrite(os.path.join(datasetDir, \"X2\", \"LR\", name), LR)\n",
    "\n",
    "    # X4\n",
    "    GT = cv2.resize(images[i], getDim(images[i].shape, 4))\n",
    "    LR = cv2.resize(GT, (GT.shape[1]//4, GT.shape[0]//4))\n",
    "    cv2.imwrite(os.path.join(datasetDir, \"X4\", \"GT\", name), GT)\n",
    "    cv2.imwrite(os.path.join(datasetDir, \"X4\", \"LR\", name), LR)"
   ]
  }
 ],
 "metadata": {
  "kernelspec": {
   "display_name": "cv-tpf",
   "language": "python",
   "name": "python3"
  },
  "language_info": {
   "codemirror_mode": {
    "name": "ipython",
    "version": 3
   },
   "file_extension": ".py",
   "mimetype": "text/x-python",
   "name": "python",
   "nbconvert_exporter": "python",
   "pygments_lexer": "ipython3",
   "version": "3.12.7"
  }
 },
 "nbformat": 4,
 "nbformat_minor": 2
}
